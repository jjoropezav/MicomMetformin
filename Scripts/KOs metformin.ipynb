{
 "cells": [
  {
   "cell_type": "code",
   "execution_count": null,
   "id": "0f43a8db",
   "metadata": {},
   "outputs": [
    {
     "name": "stderr",
     "output_type": "stream",
     "text": [
      "\r",
      "Processing samples:   0%|                                                                                                                                        | 0/132 [00:00<?, ?sample/s]"
     ]
    },
    {
     "data": {
      "application/vnd.jupyter.widget-view+json": {
       "model_id": "8e33825298c34842bcdf1ebda555fe9f",
       "version_major": 2,
       "version_minor": 0
      },
      "text/plain": [
       "Output()"
      ]
     },
     "metadata": {},
     "output_type": "display_data"
    }
   ],
   "source": [
    "#!/usr/bin/env python\n",
    "# coding: utf-8\n",
    "\n",
    "import os\n",
    "import pandas as pd\n",
    "import micom\n",
    "from os.path import isfile\n",
    "import micom\n",
    "from micom import load_pickle\n",
    "from micom import Community\n",
    "import pandas as pd\n",
    "from micom import workflows\n",
    "import pickle\n",
    "import os\n",
    "import pickle\n",
    "import pandas as pd\n",
    "from tqdm import tqdm\n",
    "\n",
    "# Define the folder paths\n",
    "input_folder = \"/scratch/home/joropeza/micom/models_met\"\n",
    "output_folder = \"/scratch/home/joropeza/micom/KOs\"\n",
    "\n",
    "# Create the output folder if it doesn't exist\n",
    "os.makedirs(output_folder, exist_ok=True)\n",
    "\n",
    "# Get a list of all files in the input folder\n",
    "file_list = os.listdir(input_folder)\n",
    "\n",
    "# Iterate over each file in the folder\n",
    "for filename in tqdm(file_list, desc=\"Processing samples\", unit=\"sample\"):\n",
    "    # Check if the file is a pickle file\n",
    "    if filename.endswith(\".pickle\"):\n",
    "        # Create the full file paths\n",
    "        input_file_path = os.path.join(input_folder, filename)\n",
    "        output_file_path = os.path.join(output_folder, \"ko_sample-{}-.csv\".format(filename[:-7]))  # Remove the \".pickle\" extension\n",
    "        \n",
    "        try:\n",
    "            # Load the pickle file\n",
    "            com0 = pickle.load(open(input_file_path, \"rb\"))\n",
    "\n",
    "            # Perform the knockout analysis\n",
    "            ko = com0.knockout_taxa(fraction=0.5, method=\"relative change\", diag=False)\n",
    "\n",
    "            # Write the knockout data frame to CSV\n",
    "            ko.to_csv(output_file_path, index=True)\n",
    "            \n",
    "            # Print a success message\n",
    "            tqdm.write(f\"Processed {filename} successfully.\")\n",
    "        except Exception as e:\n",
    "            # Print an error message\n",
    "            tqdm.write(f\"Error processing {filename}: {e}\")"
   ]
  },
  {
   "cell_type": "code",
   "execution_count": null,
   "id": "c15f3972",
   "metadata": {},
   "outputs": [],
   "source": []
  }
 ],
 "metadata": {
  "kernelspec": {
   "display_name": "Python 3 (ipykernel)",
   "language": "python",
   "name": "python3"
  },
  "language_info": {
   "codemirror_mode": {
    "name": "ipython",
    "version": 3
   },
   "file_extension": ".py",
   "mimetype": "text/x-python",
   "name": "python",
   "nbconvert_exporter": "python",
   "pygments_lexer": "ipython3",
   "version": "3.9.19"
  }
 },
 "nbformat": 4,
 "nbformat_minor": 5
}
