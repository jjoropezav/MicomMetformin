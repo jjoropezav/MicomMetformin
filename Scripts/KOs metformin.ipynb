{
 "cells": [
  {
   "cell_type": "code",
   "execution_count": 1,
   "id": "3df5e7e8-7dca-4c01-af45-9169b9890e5e",
   "metadata": {},
   "outputs": [],
   "source": [
    "import pandas as pd\n",
    "\n",
    "tax = pd.read_csv('qimme2imputadolong_met.csv')\n",
    "tax\n",
    "tax= tax[tax['abundance'] != 0]"
   ]
  },
  {
   "cell_type": "code",
   "execution_count": 2,
   "id": "e3f7ba64-5a83-4b94-a697-9ad04a72c8a2",
   "metadata": {},
   "outputs": [
    {
     "data": {
      "text/html": [
       "<pre style=\"white-space:pre;overflow-x:auto;line-height:normal;font-family:Menlo,'DejaVu Sans Mono',consolas,'Courier New',monospace\"><span style=\"color: #7fbfbf; text-decoration-color: #7fbfbf\">[12:02:38] </span><span style=\"color: #800000; text-decoration-color: #800000\">WARNING </span> Found existing models for <span style=\"color: #008080; text-decoration-color: #008080; font-weight: bold\">131</span> samples. Will skip those. Delete the output folder if <a href=\"file:///home/joropeza/miniconda3/envs/qiime2-amplicon-2024.5/lib/python3.9/site-packages/micom/workflows/build.py\" target=\"_blank\"><span style=\"color: #7f7f7f; text-decoration-color: #7f7f7f\">build.py</span></a><span style=\"color: #7f7f7f; text-decoration-color: #7f7f7f\">:</span><a href=\"file:///home/joropeza/miniconda3/envs/qiime2-amplicon-2024.5/lib/python3.9/site-packages/micom/workflows/build.py#98\" target=\"_blank\"><span style=\"color: #7f7f7f; text-decoration-color: #7f7f7f\">98</span></a>\n",
       "<span style=\"color: #7fbfbf; text-decoration-color: #7fbfbf\">           </span>         you would like me to rebuild them.                                                  <span style=\"color: #7f7f7f; text-decoration-color: #7f7f7f\">           </span>\n",
       "</pre>\n"
      ],
      "text/plain": [
       "\u001b[2;36m[12:02:38]\u001b[0m\u001b[2;36m \u001b[0m\u001b[31mWARNING \u001b[0m Found existing models for \u001b[1;36m131\u001b[0m samples. Will skip those. Delete the output folder if \u001b]8;id=355220;file:///home/joropeza/miniconda3/envs/qiime2-amplicon-2024.5/lib/python3.9/site-packages/micom/workflows/build.py\u001b\\\u001b[2mbuild.py\u001b[0m\u001b]8;;\u001b\\\u001b[2m:\u001b[0m\u001b]8;id=571112;file:///home/joropeza/miniconda3/envs/qiime2-amplicon-2024.5/lib/python3.9/site-packages/micom/workflows/build.py#98\u001b\\\u001b[2m98\u001b[0m\u001b]8;;\u001b\\\n",
       "\u001b[2;36m           \u001b[0m         you would like me to rebuild them.                                                  \u001b[2m           \u001b[0m\n"
      ]
     },
     "metadata": {},
     "output_type": "display_data"
    },
    {
     "data": {
      "application/vnd.jupyter.widget-view+json": {
       "model_id": "58967ed6383341ad93df3a4f83ea33bb",
       "version_major": 2,
       "version_minor": 0
      },
      "text/plain": [
       "Output()"
      ]
     },
     "metadata": {},
     "output_type": "display_data"
    },
    {
     "data": {
      "text/html": [
       "<pre style=\"white-space:pre;overflow-x:auto;line-height:normal;font-family:Menlo,'DejaVu Sans Mono',consolas,'Courier New',monospace\"></pre>\n"
      ],
      "text/plain": []
     },
     "metadata": {},
     "output_type": "display_data"
    },
    {
     "data": {
      "text/html": [
       "<pre style=\"white-space:pre;overflow-x:auto;line-height:normal;font-family:Menlo,'DejaVu Sans Mono',consolas,'Courier New',monospace\">\n",
       "</pre>\n"
      ],
      "text/plain": [
       "\n"
      ]
     },
     "metadata": {},
     "output_type": "display_data"
    }
   ],
   "source": [
    "from micom.workflows import build\n",
    "from micom import Community\n",
    "import pandas as pd\n",
    "\n",
    "manifest = build(tax, \"agora201_refseq216_genus_corregida2.qza\", \"models_met\", solver=\"hybrid\", cutoff=0.005, threads=100)\n"
   ]
  },
  {
   "cell_type": "code",
   "execution_count": null,
   "id": "bb6beee3-45b8-4779-ba50-887cdf86b959",
   "metadata": {},
   "outputs": [],
   "source": [
    "manifest"
   ]
  },
  {
   "cell_type": "code",
   "execution_count": 4,
   "id": "811dc10d",
   "metadata": {},
   "outputs": [],
   "source": [
    "from micom.qiime_formats import load_qiime_medium\n"
   ]
  },
  {
   "cell_type": "code",
   "execution_count": null,
   "id": "ffeabec8-67eb-4b87-adc4-30662bd1c996",
   "metadata": {},
   "outputs": [],
   "source": [
    "from micom.qiime_formats import load_qiime_medium\n",
    "\n",
    "medium_mediterranea = load_qiime_medium(\"vmh_mediterranean_cena_agora2.qza\")\n",
    "#medium_nosana = load_qiime_medium(\"vmh_fastfood_agora2.qza\")\n",
    "medium_milpa = load_qiime_medium(\"vmh_mediterranean_cena_agora2.qza\")\n",
    "#medium_guerrero = load_qiime_medium(\"dietaGuerrerodilucion.qza\")\n",
    "#medium_western = load_qiime_medium(\"western_diet_gut_agora2.qza\")\n"
   ]
  },
  {
   "cell_type": "code",
   "execution_count": null,
   "id": "0a9535d3-3afa-4b1c-8d5f-bcff557b4561",
   "metadata": {},
   "outputs": [],
   "source": [
    "medium_milpa"
   ]
  },
  {
   "cell_type": "code",
   "execution_count": null,
   "id": "c4262bb4-8004-4b99-9069-0340d32e212e",
   "metadata": {},
   "outputs": [],
   "source": [
    "from micom.workflows import grow, save_results\n",
    "\n",
    "growth_mediterranean = grow(manifest, \"models_met\", medium_mediterranea, tradeoff=0.5, threads=100)\n"
   ]
  },
  {
   "cell_type": "code",
   "execution_count": null,
   "id": "e70a44be-1414-489b-a2a4-3285ae8ce71c",
   "metadata": {},
   "outputs": [],
   "source": [
    "# We'll save the results to a file\n",
    "save_results(growth_mediterranean, \"growth_mediterranea_cena_qiime_agora2.zip\")\n"
   ]
  },
  {
   "cell_type": "code",
   "execution_count": null,
   "id": "6f850691",
   "metadata": {},
   "outputs": [],
   "source": [
    "from micom.workflows import grow, save_results\n",
    "\n",
    "growth_milpa = grow(manifest, \"models_met\", medium_milpa, tradeoff=0.4, threads=100)\n"
   ]
  },
  {
   "cell_type": "code",
   "execution_count": null,
   "id": "2e9fd000",
   "metadata": {},
   "outputs": [],
   "source": [
    "# We'll save the results to a file\n",
    "save_results(growth_milpa, \"growth_milpa_cena_qiime_agora2.zip\")\n"
   ]
  },
  {
   "cell_type": "code",
   "execution_count": 5,
   "id": "9d815020",
   "metadata": {},
   "outputs": [],
   "source": [
    "medium_uh = load_qiime_medium(\"vmh_unhealthy_cena_agora2.qza\")\n"
   ]
  },
  {
   "cell_type": "code",
   "execution_count": null,
   "id": "a4920734",
   "metadata": {
    "scrolled": false
   },
   "outputs": [
    {
     "data": {
      "application/vnd.jupyter.widget-view+json": {
       "model_id": "f875152d96554b47bac4e8f09b0bbbf4",
       "version_major": 2,
       "version_minor": 0
      },
      "text/plain": [
       "Output()"
      ]
     },
     "metadata": {},
     "output_type": "display_data"
    },
    {
     "name": "stdout",
     "output_type": "stream",
     "text": [
      "\u001b[2;36m[23:43:05]\u001b[0m\u001b[2;36m \u001b[0m\u001b[31mWARNING \u001b[0m solver encountered an error infeasible       \u001b]8;id=615931;file:///home/joropeza/miniconda3/envs/qiime2-amplicon-2024.5/lib/python3.9/site-packages/micom/solution.py\u001b\\\u001b[2msolution.py\u001b[0m\u001b]8;;\u001b\\\u001b[2m:\u001b[0m\u001b]8;id=160134;file:///home/joropeza/miniconda3/envs/qiime2-amplicon-2024.5/lib/python3.9/site-packages/micom/solution.py#206\u001b\\\u001b[2m206\u001b[0m\u001b]8;;\u001b\\\n",
      "\u001b[2;36m[23:43:15]\u001b[0m\u001b[2;36m \u001b[0m\u001b[31mWARNING \u001b[0m solver encountered an error infeasible       \u001b]8;id=141812;file:///home/joropeza/miniconda3/envs/qiime2-amplicon-2024.5/lib/python3.9/site-packages/micom/solution.py\u001b\\\u001b[2msolution.py\u001b[0m\u001b]8;;\u001b\\\u001b[2m:\u001b[0m\u001b]8;id=313191;file:///home/joropeza/miniconda3/envs/qiime2-amplicon-2024.5/lib/python3.9/site-packages/micom/solution.py#206\u001b\\\u001b[2m206\u001b[0m\u001b]8;;\u001b\\\n",
      "\u001b[2;36m          \u001b[0m\u001b[2;36m \u001b[0m\u001b[1;31mERROR   \u001b[0m Could not solve cooperative tradeoff for          \u001b]8;id=749855;file:///home/joropeza/miniconda3/envs/qiime2-amplicon-2024.5/lib/python3.9/site-packages/micom/workflows/grow.py\u001b\\\u001b[2mgrow.py\u001b[0m\u001b]8;;\u001b\\\u001b[2m:\u001b[0m\u001b]8;id=692734;file:///home/joropeza/miniconda3/envs/qiime2-amplicon-2024.5/lib/python3.9/site-packages/micom/workflows/grow.py#67\u001b\\\u001b[2m67\u001b[0m\u001b]8;;\u001b\\\n",
      "\u001b[2;36m           \u001b[0m         sample-\u001b[1;36m165\u001b[0m. This can often be fixed by enabling   \u001b[2m          \u001b[0m\n",
      "\u001b[2;36m           \u001b[0m         `presolve`, choosing more permissive atol and     \u001b[2m          \u001b[0m\n",
      "\u001b[2;36m           \u001b[0m         rtol arguments, or by checking that medium fluxes \u001b[2m          \u001b[0m\n",
      "\u001b[2;36m           \u001b[0m         are > atol.                                       \u001b[2m          \u001b[0m\n",
      "\u001b[2;36m[23:45:39]\u001b[0m\u001b[2;36m \u001b[0m\u001b[1;31mERROR   \u001b[0m Could not solve cooperative tradeoff for          \u001b]8;id=841014;file:///home/joropeza/miniconda3/envs/qiime2-amplicon-2024.5/lib/python3.9/site-packages/micom/workflows/grow.py\u001b\\\u001b[2mgrow.py\u001b[0m\u001b]8;;\u001b\\\u001b[2m:\u001b[0m\u001b]8;id=255102;file:///home/joropeza/miniconda3/envs/qiime2-amplicon-2024.5/lib/python3.9/site-packages/micom/workflows/grow.py#67\u001b\\\u001b[2m67\u001b[0m\u001b]8;;\u001b\\\n",
      "\u001b[2;36m           \u001b[0m         sample-\u001b[1;36m185\u001b[0m. This can often be fixed by enabling   \u001b[2m          \u001b[0m\n",
      "\u001b[2;36m           \u001b[0m         `presolve`, choosing more permissive atol and     \u001b[2m          \u001b[0m\n",
      "\u001b[2;36m           \u001b[0m         rtol arguments, or by checking that medium fluxes \u001b[2m          \u001b[0m\n",
      "\u001b[2;36m           \u001b[0m         are > atol.                                       \u001b[2m          \u001b[0m\n",
      "\u001b[2;36m[23:52:06]\u001b[0m\u001b[2;36m \u001b[0m\u001b[1;31mERROR   \u001b[0m Could not solve cooperative tradeoff for          \u001b]8;id=191345;file:///home/joropeza/miniconda3/envs/qiime2-amplicon-2024.5/lib/python3.9/site-packages/micom/workflows/grow.py\u001b\\\u001b[2mgrow.py\u001b[0m\u001b]8;;\u001b\\\u001b[2m:\u001b[0m\u001b]8;id=48701;file:///home/joropeza/miniconda3/envs/qiime2-amplicon-2024.5/lib/python3.9/site-packages/micom/workflows/grow.py#67\u001b\\\u001b[2m67\u001b[0m\u001b]8;;\u001b\\\n",
      "\u001b[2;36m           \u001b[0m         sample-\u001b[1;36m125\u001b[0m. This can often be fixed by enabling   \u001b[2m          \u001b[0m\n",
      "\u001b[2;36m           \u001b[0m         `presolve`, choosing more permissive atol and     \u001b[2m          \u001b[0m\n",
      "\u001b[2;36m           \u001b[0m         rtol arguments, or by checking that medium fluxes \u001b[2m          \u001b[0m\n",
      "\u001b[2;36m           \u001b[0m         are > atol.                                       \u001b[2m          \u001b[0m\n",
      "\u001b[2;36m[23:52:09]\u001b[0m\u001b[2;36m \u001b[0m\u001b[1;31mERROR   \u001b[0m Could not solve cooperative tradeoff for          \u001b]8;id=148419;file:///home/joropeza/miniconda3/envs/qiime2-amplicon-2024.5/lib/python3.9/site-packages/micom/workflows/grow.py\u001b\\\u001b[2mgrow.py\u001b[0m\u001b]8;;\u001b\\\u001b[2m:\u001b[0m\u001b]8;id=542805;file:///home/joropeza/miniconda3/envs/qiime2-amplicon-2024.5/lib/python3.9/site-packages/micom/workflows/grow.py#67\u001b\\\u001b[2m67\u001b[0m\u001b]8;;\u001b\\\n",
      "\u001b[2;36m           \u001b[0m         sample-\u001b[1;36m221\u001b[0m. This can often be fixed by enabling   \u001b[2m          \u001b[0m\n",
      "\u001b[2;36m           \u001b[0m         `presolve`, choosing more permissive atol and     \u001b[2m          \u001b[0m\n",
      "\u001b[2;36m           \u001b[0m         rtol arguments, or by checking that medium fluxes \u001b[2m          \u001b[0m\n",
      "\u001b[2;36m           \u001b[0m         are > atol.                                       \u001b[2m          \u001b[0m\n",
      "\u001b[2;36m[23:52:29]\u001b[0m\u001b[2;36m \u001b[0m\u001b[1;31mERROR   \u001b[0m Could not solve cooperative tradeoff for          \u001b]8;id=979424;file:///home/joropeza/miniconda3/envs/qiime2-amplicon-2024.5/lib/python3.9/site-packages/micom/workflows/grow.py\u001b\\\u001b[2mgrow.py\u001b[0m\u001b]8;;\u001b\\\u001b[2m:\u001b[0m\u001b]8;id=324450;file:///home/joropeza/miniconda3/envs/qiime2-amplicon-2024.5/lib/python3.9/site-packages/micom/workflows/grow.py#67\u001b\\\u001b[2m67\u001b[0m\u001b]8;;\u001b\\\n",
      "\u001b[2;36m           \u001b[0m         sample-\u001b[1;36m137\u001b[0m. This can often be fixed by enabling   \u001b[2m          \u001b[0m\n",
      "\u001b[2;36m           \u001b[0m         `presolve`, choosing more permissive atol and     \u001b[2m          \u001b[0m\n",
      "\u001b[2;36m           \u001b[0m         rtol arguments, or by checking that medium fluxes \u001b[2m          \u001b[0m\n",
      "\u001b[2;36m           \u001b[0m         are > atol.                                       \u001b[2m          \u001b[0m\n",
      "\u001b[2;36m[23:52:52]\u001b[0m\u001b[2;36m \u001b[0m\u001b[1;31mERROR   \u001b[0m Could not solve cooperative tradeoff for          \u001b]8;id=783114;file:///home/joropeza/miniconda3/envs/qiime2-amplicon-2024.5/lib/python3.9/site-packages/micom/workflows/grow.py\u001b\\\u001b[2mgrow.py\u001b[0m\u001b]8;;\u001b\\\u001b[2m:\u001b[0m\u001b]8;id=702440;file:///home/joropeza/miniconda3/envs/qiime2-amplicon-2024.5/lib/python3.9/site-packages/micom/workflows/grow.py#67\u001b\\\u001b[2m67\u001b[0m\u001b]8;;\u001b\\\n",
      "\u001b[2;36m           \u001b[0m         sample-\u001b[1;36m169\u001b[0m. This can often be fixed by enabling   \u001b[2m          \u001b[0m\n",
      "\u001b[2;36m           \u001b[0m         `presolve`, choosing more permissive atol and     \u001b[2m          \u001b[0m\n",
      "\u001b[2;36m           \u001b[0m         rtol arguments, or by checking that medium fluxes \u001b[2m          \u001b[0m\n",
      "\u001b[2;36m           \u001b[0m         are > atol.                                       \u001b[2m          \u001b[0m\n",
      "\u001b[2;36m[23:52:58]\u001b[0m\u001b[2;36m \u001b[0m\u001b[31mWARNING \u001b[0m solver encountered an error infeasible       \u001b]8;id=899006;file:///home/joropeza/miniconda3/envs/qiime2-amplicon-2024.5/lib/python3.9/site-packages/micom/solution.py\u001b\\\u001b[2msolution.py\u001b[0m\u001b]8;;\u001b\\\u001b[2m:\u001b[0m\u001b]8;id=990743;file:///home/joropeza/miniconda3/envs/qiime2-amplicon-2024.5/lib/python3.9/site-packages/micom/solution.py#206\u001b\\\u001b[2m206\u001b[0m\u001b]8;;\u001b\\\n",
      "\u001b[2;36m[23:53:14]\u001b[0m\u001b[2;36m \u001b[0m\u001b[31mWARNING \u001b[0m solver encountered an error infeasible       \u001b]8;id=975892;file:///home/joropeza/miniconda3/envs/qiime2-amplicon-2024.5/lib/python3.9/site-packages/micom/solution.py\u001b\\\u001b[2msolution.py\u001b[0m\u001b]8;;\u001b\\\u001b[2m:\u001b[0m\u001b]8;id=193934;file:///home/joropeza/miniconda3/envs/qiime2-amplicon-2024.5/lib/python3.9/site-packages/micom/solution.py#206\u001b\\\u001b[2m206\u001b[0m\u001b]8;;\u001b\\\n",
      "\u001b[2;36m          \u001b[0m\u001b[2;36m \u001b[0m\u001b[1;31mERROR   \u001b[0m Could not solve cooperative tradeoff for          \u001b]8;id=496938;file:///home/joropeza/miniconda3/envs/qiime2-amplicon-2024.5/lib/python3.9/site-packages/micom/workflows/grow.py\u001b\\\u001b[2mgrow.py\u001b[0m\u001b]8;;\u001b\\\u001b[2m:\u001b[0m\u001b]8;id=405639;file:///home/joropeza/miniconda3/envs/qiime2-amplicon-2024.5/lib/python3.9/site-packages/micom/workflows/grow.py#67\u001b\\\u001b[2m67\u001b[0m\u001b]8;;\u001b\\\n",
      "\u001b[2;36m           \u001b[0m         sample-\u001b[1;36m204\u001b[0m. This can often be fixed by enabling   \u001b[2m          \u001b[0m\n",
      "\u001b[2;36m           \u001b[0m         `presolve`, choosing more permissive atol and     \u001b[2m          \u001b[0m\n",
      "\u001b[2;36m           \u001b[0m         rtol arguments, or by checking that medium fluxes \u001b[2m          \u001b[0m\n",
      "\u001b[2;36m           \u001b[0m         are > atol.                                       \u001b[2m          \u001b[0m\n",
      "\u001b[2;36m[23:53:17]\u001b[0m\u001b[2;36m \u001b[0m\u001b[1;31mERROR   \u001b[0m Could not solve cooperative tradeoff for          \u001b]8;id=673760;file:///home/joropeza/miniconda3/envs/qiime2-amplicon-2024.5/lib/python3.9/site-packages/micom/workflows/grow.py\u001b\\\u001b[2mgrow.py\u001b[0m\u001b]8;;\u001b\\\u001b[2m:\u001b[0m\u001b]8;id=922528;file:///home/joropeza/miniconda3/envs/qiime2-amplicon-2024.5/lib/python3.9/site-packages/micom/workflows/grow.py#67\u001b\\\u001b[2m67\u001b[0m\u001b]8;;\u001b\\\n",
      "\u001b[2;36m           \u001b[0m         sample-\u001b[1;36m148\u001b[0m. This can often be fixed by enabling   \u001b[2m          \u001b[0m\n",
      "\u001b[2;36m           \u001b[0m         `presolve`, choosing more permissive atol and     \u001b[2m          \u001b[0m\n",
      "\u001b[2;36m           \u001b[0m         rtol arguments, or by checking that medium fluxes \u001b[2m          \u001b[0m\n",
      "\u001b[2;36m           \u001b[0m         are > atol.                                       \u001b[2m          \u001b[0m\n",
      "\u001b[2;36m[23:53:48]\u001b[0m\u001b[2;36m \u001b[0m\u001b[1;31mERROR   \u001b[0m Could not solve cooperative tradeoff for          \u001b]8;id=549482;file:///home/joropeza/miniconda3/envs/qiime2-amplicon-2024.5/lib/python3.9/site-packages/micom/workflows/grow.py\u001b\\\u001b[2mgrow.py\u001b[0m\u001b]8;;\u001b\\\u001b[2m:\u001b[0m\u001b]8;id=640611;file:///home/joropeza/miniconda3/envs/qiime2-amplicon-2024.5/lib/python3.9/site-packages/micom/workflows/grow.py#67\u001b\\\u001b[2m67\u001b[0m\u001b]8;;\u001b\\\n",
      "\u001b[2;36m           \u001b[0m         sample-\u001b[1;36m172\u001b[0m. This can often be fixed by enabling   \u001b[2m          \u001b[0m\n",
      "\u001b[2;36m           \u001b[0m         `presolve`, choosing more permissive atol and     \u001b[2m          \u001b[0m\n",
      "\u001b[2;36m           \u001b[0m         rtol arguments, or by checking that medium fluxes \u001b[2m          \u001b[0m\n",
      "\u001b[2;36m           \u001b[0m         are > atol.                                       \u001b[2m          \u001b[0m\n"
     ]
    },
    {
     "name": "stdout",
     "output_type": "stream",
     "text": [
      "\u001b[2;36m[23:55:25]\u001b[0m\u001b[2;36m \u001b[0m\u001b[1;31mERROR   \u001b[0m Could not solve cooperative tradeoff for          \u001b]8;id=449182;file:///home/joropeza/miniconda3/envs/qiime2-amplicon-2024.5/lib/python3.9/site-packages/micom/workflows/grow.py\u001b\\\u001b[2mgrow.py\u001b[0m\u001b]8;;\u001b\\\u001b[2m:\u001b[0m\u001b]8;id=764556;file:///home/joropeza/miniconda3/envs/qiime2-amplicon-2024.5/lib/python3.9/site-packages/micom/workflows/grow.py#67\u001b\\\u001b[2m67\u001b[0m\u001b]8;;\u001b\\\n",
      "\u001b[2;36m           \u001b[0m         sample-\u001b[1;36m150\u001b[0m. This can often be fixed by enabling   \u001b[2m          \u001b[0m\n",
      "\u001b[2;36m           \u001b[0m         `presolve`, choosing more permissive atol and     \u001b[2m          \u001b[0m\n",
      "\u001b[2;36m           \u001b[0m         rtol arguments, or by checking that medium fluxes \u001b[2m          \u001b[0m\n",
      "\u001b[2;36m           \u001b[0m         are > atol.                                       \u001b[2m          \u001b[0m\n"
     ]
    }
   ],
   "source": [
    "from micom.workflows import grow, save_results\n",
    "\n",
    "growth_unhealthy = grow(manifest, \"models_met\", medium_uh, tradeoff=0.4, threads=80)\n",
    "\n",
    "#crear flujos por muestra, salvarlos individual y ver cuales son las que no corren"
   ]
  },
  {
   "cell_type": "code",
   "execution_count": 22,
   "id": "c9b22244",
   "metadata": {},
   "outputs": [],
   "source": [
    "# We'll save the results to a file\n",
    "save_results(growth_unhealthy, \"growth_unhealthy_cena_qiime_agora2_04tradeoff.zip\")\n"
   ]
  },
  {
   "cell_type": "code",
   "execution_count": 19,
   "id": "c20e6ab9",
   "metadata": {},
   "outputs": [
    {
     "data": {
      "text/plain": [
       "GrowthResults(growth_rates=                    abundance  growth_rate  reactions  metabolites  \\\n",
       "compartments                                                         \n",
       "g__Alloprevotella    0.009330     0.000000       1132         1039   \n",
       "g__Bacteroides       0.030589     0.000028       4477         3577   \n",
       "g__Bifidobacterium   0.010541     0.000000       3280         2498   \n",
       "g__Blautia           0.020155     0.000405       2056         1552   \n",
       "g__Butyrivibrio      0.015419     0.000000       1416         1185   \n",
       "...                       ...          ...        ...          ...   \n",
       "g__Ruminococcus      0.016277     0.000000       3351         2555   \n",
       "g__Slackia           0.011919     0.000000       1250         1092   \n",
       "g__Streptococcus     0.017943     0.000000       3610         2750   \n",
       "g__Subdoligranulum   0.057353     0.000000       1238         1079   \n",
       "g__Veillonella       0.086511     0.000000       2023         1839   \n",
       "\n",
       "                                 taxon  tradeoff   sample_id  \n",
       "compartments                                                  \n",
       "g__Alloprevotella    g__Alloprevotella       0.3  sample-186  \n",
       "g__Bacteroides          g__Bacteroides       0.3  sample-186  \n",
       "g__Bifidobacterium  g__Bifidobacterium       0.3  sample-186  \n",
       "g__Blautia                  g__Blautia       0.3  sample-186  \n",
       "g__Butyrivibrio        g__Butyrivibrio       0.3  sample-186  \n",
       "...                                ...       ...         ...  \n",
       "g__Ruminococcus        g__Ruminococcus       0.3  sample-128  \n",
       "g__Slackia                  g__Slackia       0.3  sample-128  \n",
       "g__Streptococcus      g__Streptococcus       0.3  sample-128  \n",
       "g__Subdoligranulum  g__Subdoligranulum       0.3  sample-128  \n",
       "g__Veillonella          g__Veillonella       0.3  sample-128  \n",
       "\n",
       "[2444 rows x 7 columns], exchanges=                     taxon   sample_id  tolerance       reaction        flux  \\\n",
       "7       g__Acidaminococcus  sample-134   0.000001    EX_glu_L(e)   26.144109   \n",
       "8       g__Acidaminococcus  sample-134   0.000001    EX_phe_L(e)   -0.000002   \n",
       "9       g__Acidaminococcus  sample-134   0.000001      EX_ura(e)   -0.000044   \n",
       "11      g__Acidaminococcus  sample-134   0.000001    EX_ala_D(e) -100.000000   \n",
       "16      g__Acidaminococcus  sample-134   0.000001      EX_nh4(e)   84.938323   \n",
       "...                    ...         ...        ...            ...         ...   \n",
       "938680              medium   sample-32   0.000001         EX_k_m   -0.000001   \n",
       "938691              medium   sample-32   0.000001       EX_fe2_m   -0.000002   \n",
       "938695              medium   sample-32   0.000001     EX_2mbut_m    6.730889   \n",
       "938741              medium   sample-32   0.000001  EX_4hoxpacd_m    2.135493   \n",
       "938750              medium   sample-32   0.000001     EX_cinnm_m    1.722228   \n",
       "\n",
       "        abundance  metabolite direction  \n",
       "7          0.0208    glu_L[e]    export  \n",
       "8          0.0208    phe_L[e]    import  \n",
       "9          0.0208      ura[e]    import  \n",
       "11         0.0208    ala_D[e]    import  \n",
       "16         0.0208      nh4[e]    export  \n",
       "...           ...         ...       ...  \n",
       "938680        NaN         k_m    import  \n",
       "938691        NaN       fe2_m    import  \n",
       "938695        NaN     2mbut_m    export  \n",
       "938741        NaN  4hoxpacd_m    export  \n",
       "938750        NaN     cinnm_m    export  \n",
       "\n",
       "[152922 rows x 8 columns], annotations=               metabolite                           name  molecular_weight  \\\n",
       "reaction                                                                     \n",
       "EX_26dap_M(e)  26dap_M[e]  meso-2,6-Diaminoheptanedioate         190.19706   \n",
       "EX_2obut(e)      2obut[e]                 2-Oxobutanoate         101.08070   \n",
       "EX_ac(e)            ac[e]                        Acetate          59.04402   \n",
       "EX_acnam(e)      acnam[e]            N-acetylneuraminate         308.26192   \n",
       "EX_adn(e)          adn[e]                      Adenosine         267.24132   \n",
       "...                   ...                            ...               ...   \n",
       "EX_lyx_L(e)      lyx_L[e]                       L-Lyxose         150.12990   \n",
       "EX_abt_m            abt_m                   L-arabinitol         152.14578   \n",
       "EX_lyx_L_m        lyx_L_m                       L-Lyxose         150.12990   \n",
       "EX_acon_C(e)    acon_C[e]                  cis-Aconitate         171.08442   \n",
       "EX_acon_C_m      acon_C_m                  cis-Aconitate         171.08442   \n",
       "\n",
       "               C_number  N_number bigg.metabolite               biocyc  \\\n",
       "reaction                                                                 \n",
       "EX_26dap_M(e)         7         2        26dap__M   LL-DIAMINOPIMELATE   \n",
       "EX_2obut(e)           4         0           2obut       2-OXOBUTANOATE   \n",
       "EX_ac(e)              2         0              ac                 ACET   \n",
       "EX_acnam(e)          11         1           acnam  N-ACETYLNEURAMINATE   \n",
       "EX_adn(e)            10         5             adn            ADENOSINE   \n",
       "...                 ...       ...             ...                  ...   \n",
       "EX_lyx_L(e)           5         0          lyx__L                  NaN   \n",
       "EX_abt_m              5         0             abt           L-ARABITOL   \n",
       "EX_lyx_L_m            5         0          lyx__L                  NaN   \n",
       "EX_acon_C(e)          6         0          acon_C        CIS-ACONITATE   \n",
       "EX_acon_C_m           6         0          acon_C        CIS-ACONITATE   \n",
       "\n",
       "                     chebi         hmdb  \\\n",
       "reaction                                  \n",
       "EX_26dap_M(e)  CHEBI:16026    HMDB01370   \n",
       "EX_2obut(e)    CHEBI:30831  HMDB0000005   \n",
       "EX_ac(e)       CHEBI:15366  HMDB0000042   \n",
       "EX_acnam(e)    CHEBI:45744  HMDB0000230   \n",
       "EX_adn(e)      CHEBI:16335  HMDB0000050   \n",
       "...                    ...          ...   \n",
       "EX_lyx_L(e)            NaN          NaN   \n",
       "EX_abt_m       CHEBI:18403  HMDB0001851   \n",
       "EX_lyx_L_m             NaN          NaN   \n",
       "EX_acon_C(e)   CHEBI:16383          NaN   \n",
       "EX_acon_C_m    CHEBI:16383          NaN   \n",
       "\n",
       "                                                           inchi  \\\n",
       "reaction                                                           \n",
       "EX_26dap_M(e)  InChI=1S/C7H14N2O4/c8-4(6(10)11)2-1-3-5(9)7(12...   \n",
       "EX_2obut(e)      InChI=1S/C4H6O3/c1-2-3(5)4(6)7/h2H2,1H3,(H,6,7)   \n",
       "EX_ac(e)                           InChI=1S/C2H4O2/c1-2(3)4/h1H3   \n",
       "EX_acnam(e)    InChI=1S/C11H19NO9/c1-4(14)12-7-5(15)2-11(20,1...   \n",
       "EX_adn(e)      InChI=1S/C10H13N5O4/c11-8-5-9(13-2-12-8)15(3-1...   \n",
       "...                                                          ...   \n",
       "EX_lyx_L(e)                                                  NaN   \n",
       "EX_abt_m           InChI=1S/C5H12O5/c6-1-3(8)5(10)4(9)2-7/h3-10H   \n",
       "EX_lyx_L_m                                                   NaN   \n",
       "EX_acon_C(e)   InChI=1S/C6H6O6/c7-4(8)1-3(6(11)12)2-5(9)10/h1...   \n",
       "EX_acon_C_m    InChI=1S/C6H6O6/c7-4(8)1-3(6(11)12)2-5(9)10/h1...   \n",
       "\n",
       "              kegg.compound     lipidmaps metanetx.chemical pubchem.compound  \\\n",
       "reaction                                                                       \n",
       "EX_26dap_M(e)        C00680  LMFA01170102           MNXM644             3949   \n",
       "EX_2obut(e)          C00109  LMFA01060002           MNXM159               58   \n",
       "EX_ac(e)             C00033  LMFA01010002            MNXM26              176   \n",
       "EX_acnam(e)          C00270           NaN           MNXM227           439197   \n",
       "EX_adn(e)            C00212           NaN       MNXM1105760            60961   \n",
       "...                     ...           ...               ...              ...   \n",
       "EX_lyx_L(e)             NaN           NaN          MNXM4641              NaN   \n",
       "EX_abt_m             C00532           NaN        MNXM740330           439255   \n",
       "EX_lyx_L_m              NaN           NaN          MNXM4641              NaN   \n",
       "EX_acon_C(e)         C00417           NaN           MNXM813              NaN   \n",
       "EX_acon_C_m          C00417           NaN           MNXM813              NaN   \n",
       "\n",
       "              reactome          sbo seed.compound smiles       reaction  \n",
       "reaction                                                                 \n",
       "EX_26dap_M(e)      NaN  SBO:0000247      cpd00516    NaN  EX_26dap_M(e)  \n",
       "EX_2obut(e)        NaN  SBO:0000247      cpd00094    NaN    EX_2obut(e)  \n",
       "EX_ac(e)           NaN  SBO:0000247      cpd00029    NaN       EX_ac(e)  \n",
       "EX_acnam(e)        NaN  SBO:0000247      cpd00232    NaN    EX_acnam(e)  \n",
       "EX_adn(e)          NaN  SBO:0000247      cpd00182    NaN      EX_adn(e)  \n",
       "...                ...          ...           ...    ...            ...  \n",
       "EX_lyx_L(e)        NaN  SBO:0000247           NaN    NaN    EX_lyx_L(e)  \n",
       "EX_abt_m           NaN  SBO:0000247      cpd00417    NaN       EX_abt_m  \n",
       "EX_lyx_L_m         NaN  SBO:0000247           NaN    NaN     EX_lyx_L_m  \n",
       "EX_acon_C(e)       NaN  SBO:0000247      cpd00331    NaN   EX_acon_C(e)  \n",
       "EX_acon_C_m        NaN  SBO:0000247      cpd00331    NaN    EX_acon_C_m  \n",
       "\n",
       "[1614 rows x 19 columns])"
      ]
     },
     "execution_count": 19,
     "metadata": {},
     "output_type": "execute_result"
    }
   ],
   "source": [
    "growth_unhealthy"
   ]
  },
  {
   "cell_type": "code",
   "execution_count": null,
   "id": "107e9da7",
   "metadata": {},
   "outputs": [
    {
     "data": {
      "application/vnd.jupyter.widget-view+json": {
       "model_id": "987c5b171cd54c1a9ce95f094d7a56cc",
       "version_major": 2,
       "version_minor": 0
      },
      "text/plain": [
       "Output()"
      ]
     },
     "metadata": {},
     "output_type": "display_data"
    },
    {
     "name": "stdout",
     "output_type": "stream",
     "text": [
      "\u001b[2;36m[00:39:30]\u001b[0m\u001b[2;36m \u001b[0m\u001b[31mWARNING \u001b[0m Sample sample-\u001b[1;36m129\u001b[0m could not be optimized with \u001b]8;id=448243;file:///home/joropeza/miniconda3/envs/qiime2-amplicon-2024.5/lib/python3.9/site-packages/micom/workflows/tradeoff.py\u001b\\\u001b[2mtradeoff.py\u001b[0m\u001b]8;;\u001b\\\u001b[2m:\u001b[0m\u001b]8;id=328532;file:///home/joropeza/miniconda3/envs/qiime2-amplicon-2024.5/lib/python3.9/site-packages/micom/workflows/tradeoff.py#43\u001b\\\u001b[2m43\u001b[0m\u001b]8;;\u001b\\\n",
      "\u001b[2;36m           \u001b[0m         cooperative tradeoff \u001b[1m(\u001b[0miteration_limit\u001b[1m)\u001b[0m.       \u001b[2m              \u001b[0m\n",
      "\u001b[2;36m[00:53:48]\u001b[0m\u001b[2;36m \u001b[0m\u001b[31mWARNING \u001b[0m Sample sample-\u001b[1;36m133\u001b[0m could not be optimized with \u001b]8;id=603008;file:///home/joropeza/miniconda3/envs/qiime2-amplicon-2024.5/lib/python3.9/site-packages/micom/workflows/tradeoff.py\u001b\\\u001b[2mtradeoff.py\u001b[0m\u001b]8;;\u001b\\\u001b[2m:\u001b[0m\u001b]8;id=462330;file:///home/joropeza/miniconda3/envs/qiime2-amplicon-2024.5/lib/python3.9/site-packages/micom/workflows/tradeoff.py#43\u001b\\\u001b[2m43\u001b[0m\u001b]8;;\u001b\\\n",
      "\u001b[2;36m           \u001b[0m         cooperative tradeoff \u001b[1m(\u001b[0miteration_limit\u001b[1m)\u001b[0m.       \u001b[2m              \u001b[0m\n",
      "\u001b[2;36m[01:22:25]\u001b[0m\u001b[2;36m \u001b[0m\u001b[31mWARNING \u001b[0m Sample sample-\u001b[1;36m165\u001b[0m could not be optimized with \u001b]8;id=657029;file:///home/joropeza/miniconda3/envs/qiime2-amplicon-2024.5/lib/python3.9/site-packages/micom/workflows/tradeoff.py\u001b\\\u001b[2mtradeoff.py\u001b[0m\u001b]8;;\u001b\\\u001b[2m:\u001b[0m\u001b]8;id=356317;file:///home/joropeza/miniconda3/envs/qiime2-amplicon-2024.5/lib/python3.9/site-packages/micom/workflows/tradeoff.py#43\u001b\\\u001b[2m43\u001b[0m\u001b]8;;\u001b\\\n",
      "\u001b[2;36m           \u001b[0m         cooperative tradeoff \u001b[1m(\u001b[0miteration_limit\u001b[1m)\u001b[0m.       \u001b[2m              \u001b[0m\n"
     ]
    }
   ],
   "source": [
    "from micom.workflows import tradeoff\n",
    "import micom\n",
    "\n",
    "tradeoff_results = tradeoff(manifest, \"models_met\", medium_uh, threads=100)\n",
    "tradeoff_results.to_csv(\"tradeoff.csv\", index=False)\n",
    "\n",
    "plot_tradeoff(tradeoff_results, tolerance=1e-4)"
   ]
  },
  {
   "cell_type": "code",
   "execution_count": 9,
   "id": "22a34a01",
   "metadata": {},
   "outputs": [
    {
     "data": {
      "text/html": [
       "<div>\n",
       "<style scoped>\n",
       "    .dataframe tbody tr th:only-of-type {\n",
       "        vertical-align: middle;\n",
       "    }\n",
       "\n",
       "    .dataframe tbody tr th {\n",
       "        vertical-align: top;\n",
       "    }\n",
       "\n",
       "    .dataframe thead th {\n",
       "        text-align: right;\n",
       "    }\n",
       "</style>\n",
       "<table border=\"1\" class=\"dataframe\">\n",
       "  <thead>\n",
       "    <tr style=\"text-align: right;\">\n",
       "      <th></th>\n",
       "      <th>abundance</th>\n",
       "      <th>growth_rate</th>\n",
       "      <th>reactions</th>\n",
       "      <th>metabolites</th>\n",
       "      <th>taxon</th>\n",
       "      <th>tradeoff</th>\n",
       "      <th>sample_id</th>\n",
       "    </tr>\n",
       "    <tr>\n",
       "      <th>compartments</th>\n",
       "      <th></th>\n",
       "      <th></th>\n",
       "      <th></th>\n",
       "      <th></th>\n",
       "      <th></th>\n",
       "      <th></th>\n",
       "      <th></th>\n",
       "    </tr>\n",
       "  </thead>\n",
       "  <tbody>\n",
       "    <tr>\n",
       "      <th>g__Akkermansia</th>\n",
       "      <td>0.087859</td>\n",
       "      <td>0.029184</td>\n",
       "      <td>1422</td>\n",
       "      <td>1244</td>\n",
       "      <td>g__Akkermansia</td>\n",
       "      <td>NaN</td>\n",
       "      <td>sample-219</td>\n",
       "    </tr>\n",
       "    <tr>\n",
       "      <th>g__Bacteroides</th>\n",
       "      <td>0.009488</td>\n",
       "      <td>0.000000</td>\n",
       "      <td>4477</td>\n",
       "      <td>3577</td>\n",
       "      <td>g__Bacteroides</td>\n",
       "      <td>NaN</td>\n",
       "      <td>sample-219</td>\n",
       "    </tr>\n",
       "    <tr>\n",
       "      <th>g__Blautia</th>\n",
       "      <td>0.020056</td>\n",
       "      <td>0.000000</td>\n",
       "      <td>2056</td>\n",
       "      <td>1552</td>\n",
       "      <td>g__Blautia</td>\n",
       "      <td>NaN</td>\n",
       "      <td>sample-219</td>\n",
       "    </tr>\n",
       "    <tr>\n",
       "      <th>g__Collinsella</th>\n",
       "      <td>0.078718</td>\n",
       "      <td>0.000000</td>\n",
       "      <td>2412</td>\n",
       "      <td>1936</td>\n",
       "      <td>g__Collinsella</td>\n",
       "      <td>NaN</td>\n",
       "      <td>sample-219</td>\n",
       "    </tr>\n",
       "    <tr>\n",
       "      <th>g__Enterococcus</th>\n",
       "      <td>0.007482</td>\n",
       "      <td>0.000000</td>\n",
       "      <td>3608</td>\n",
       "      <td>2840</td>\n",
       "      <td>g__Enterococcus</td>\n",
       "      <td>NaN</td>\n",
       "      <td>sample-219</td>\n",
       "    </tr>\n",
       "    <tr>\n",
       "      <th>...</th>\n",
       "      <td>...</td>\n",
       "      <td>...</td>\n",
       "      <td>...</td>\n",
       "      <td>...</td>\n",
       "      <td>...</td>\n",
       "      <td>...</td>\n",
       "      <td>...</td>\n",
       "    </tr>\n",
       "    <tr>\n",
       "      <th>g__Roseburia</th>\n",
       "      <td>0.037625</td>\n",
       "      <td>0.000301</td>\n",
       "      <td>2496</td>\n",
       "      <td>1958</td>\n",
       "      <td>g__Roseburia</td>\n",
       "      <td>0.1</td>\n",
       "      <td>sample-253</td>\n",
       "    </tr>\n",
       "    <tr>\n",
       "      <th>g__Ruminococcus</th>\n",
       "      <td>0.015102</td>\n",
       "      <td>0.000121</td>\n",
       "      <td>3351</td>\n",
       "      <td>2555</td>\n",
       "      <td>g__Ruminococcus</td>\n",
       "      <td>0.1</td>\n",
       "      <td>sample-253</td>\n",
       "    </tr>\n",
       "    <tr>\n",
       "      <th>g__Streptococcus</th>\n",
       "      <td>0.017734</td>\n",
       "      <td>0.000142</td>\n",
       "      <td>3610</td>\n",
       "      <td>2750</td>\n",
       "      <td>g__Streptococcus</td>\n",
       "      <td>0.1</td>\n",
       "      <td>sample-253</td>\n",
       "    </tr>\n",
       "    <tr>\n",
       "      <th>g__Subdoligranulum</th>\n",
       "      <td>0.077149</td>\n",
       "      <td>0.000618</td>\n",
       "      <td>1238</td>\n",
       "      <td>1079</td>\n",
       "      <td>g__Subdoligranulum</td>\n",
       "      <td>0.1</td>\n",
       "      <td>sample-253</td>\n",
       "    </tr>\n",
       "    <tr>\n",
       "      <th>g__Veillonella</th>\n",
       "      <td>0.088971</td>\n",
       "      <td>0.000712</td>\n",
       "      <td>2023</td>\n",
       "      <td>1839</td>\n",
       "      <td>g__Veillonella</td>\n",
       "      <td>0.1</td>\n",
       "      <td>sample-253</td>\n",
       "    </tr>\n",
       "  </tbody>\n",
       "</table>\n",
       "<p>29557 rows × 7 columns</p>\n",
       "</div>"
      ],
      "text/plain": [
       "                    abundance  growth_rate  reactions  metabolites  \\\n",
       "compartments                                                         \n",
       "g__Akkermansia       0.087859     0.029184       1422         1244   \n",
       "g__Bacteroides       0.009488     0.000000       4477         3577   \n",
       "g__Blautia           0.020056     0.000000       2056         1552   \n",
       "g__Collinsella       0.078718     0.000000       2412         1936   \n",
       "g__Enterococcus      0.007482     0.000000       3608         2840   \n",
       "...                       ...          ...        ...          ...   \n",
       "g__Roseburia         0.037625     0.000301       2496         1958   \n",
       "g__Ruminococcus      0.015102     0.000121       3351         2555   \n",
       "g__Streptococcus     0.017734     0.000142       3610         2750   \n",
       "g__Subdoligranulum   0.077149     0.000618       1238         1079   \n",
       "g__Veillonella       0.088971     0.000712       2023         1839   \n",
       "\n",
       "                                 taxon  tradeoff   sample_id  \n",
       "compartments                                                  \n",
       "g__Akkermansia          g__Akkermansia       NaN  sample-219  \n",
       "g__Bacteroides          g__Bacteroides       NaN  sample-219  \n",
       "g__Blautia                  g__Blautia       NaN  sample-219  \n",
       "g__Collinsella          g__Collinsella       NaN  sample-219  \n",
       "g__Enterococcus        g__Enterococcus       NaN  sample-219  \n",
       "...                                ...       ...         ...  \n",
       "g__Roseburia              g__Roseburia       0.1  sample-253  \n",
       "g__Ruminococcus        g__Ruminococcus       0.1  sample-253  \n",
       "g__Streptococcus      g__Streptococcus       0.1  sample-253  \n",
       "g__Subdoligranulum  g__Subdoligranulum       0.1  sample-253  \n",
       "g__Veillonella          g__Veillonella       0.1  sample-253  \n",
       "\n",
       "[29557 rows x 7 columns]"
      ]
     },
     "execution_count": 9,
     "metadata": {},
     "output_type": "execute_result"
    }
   ],
   "source": [
    "tradeoff_results"
   ]
  },
  {
   "cell_type": "code",
   "execution_count": 16,
   "id": "2d9218e0",
   "metadata": {},
   "outputs": [
    {
     "name": "stderr",
     "output_type": "stream",
     "text": [
      "/tmp/ipykernel_3666239/1069626107.py:40: DeprecationWarning: DataFrameGroupBy.apply operated on the grouping columns. This behavior is deprecated, and in a future version of pandas the grouping columns will be excluded from the operation. Either pass `include_groups=False` to exclude the groupings or explicitly select the grouping columns after groupby to silence this warning.\n",
      "  growth.groupby([\"tradeoff\", \"sample_id\"])\n"
     ]
    },
    {
     "data": {
      "text/plain": [
       "<micom.viz.core.Visualization at 0x7fe2b2dda580>"
      ]
     },
     "execution_count": 16,
     "metadata": {},
     "output_type": "execute_result"
    }
   ],
   "source": [
    "plot_tradeoff(tradeoff_results, tolerance=1e-4)"
   ]
  },
  {
   "cell_type": "code",
   "execution_count": 15,
   "id": "ebab9227",
   "metadata": {},
   "outputs": [],
   "source": [
    "from datetime import datetime\n",
    "from micom.viz import Visualization\n",
    "import numpy as np\n",
    "import pandas as pd\n",
    "\n",
    "def plot_tradeoff(\n",
    "    tradeoff_rates,\n",
    "    filename=\"tradeoff_%s.html\" % datetime.now().strftime(\"%Y%m%d\"),\n",
    "    tolerance=1e-6,\n",
    "):\n",
    "    \"\"\"Plot diagnostics for varying tradeoff values.\n",
    "\n",
    "    Parameters\n",
    "    ----------\n",
    "    tradeoff_rates : pandas.DataFrame\n",
    "        The growth rates returned by the `tradeoff` workflow.\n",
    "    filename : str\n",
    "        The HTML file where the visualization will be saved.\n",
    "    tolerance : float\n",
    "        Smallest growth rate that will be considered. Everything lower will be\n",
    "        considered not growing.\n",
    "\n",
    "    Returns\n",
    "    -------\n",
    "    Visualization\n",
    "        A MICOM visualization. Can be served with `viz.serve`.\n",
    "\n",
    "    \"\"\"\n",
    "    rates = tradeoff_rates\n",
    "    data = {\"tradeoff\": rates}\n",
    "    viz = Visualization(filename, data, \"tradeoff.html\")\n",
    "    growth = rates[\n",
    "        [\"taxon\", \"sample_id\", \"abundance\", \"tradeoff\", \"growth_rate\"]\n",
    "    ].copy()\n",
    "    growth.tradeoff = growth.tradeoff.round(6).astype(str)\n",
    "    growth.loc[growth.tradeoff == \"nan\", \"tradeoff\"] = \"none\"\n",
    "    growth.loc[growth.growth_rate < tolerance, \"growth_rate\"] = tolerance\n",
    "    growth.loc[:, \"log_growth_rate\"] = np.log10(growth.growth_rate)\n",
    "    tradeoff = (\n",
    "        growth.groupby([\"tradeoff\", \"sample_id\"])\n",
    "        .apply(\n",
    "            lambda df: pd.Series(\n",
    "                {\n",
    "                    \"n_taxa\": df.shape[0],\n",
    "                    \"n_growing\": df[df.growth_rate > tolerance].shape[0],\n",
    "                    \"fraction_growing\": (\n",
    "                        df[df.growth_rate > tolerance].shape[0] / df.shape[0]\n",
    "                    ),\n",
    "                }\n",
    "            )\n",
    "        )\n",
    "        .reset_index()\n",
    "    )\n",
    "    viz.save(\n",
    "        growth=growth.to_json(orient=\"records\"),\n",
    "        tradeoff=tradeoff.to_json(orient=\"records\"),\n",
    "        extent=[growth.log_growth_rate.min(), growth.log_growth_rate.max()],\n",
    "        width=400,\n",
    "        height=300,\n",
    "    )\n",
    "\n",
    "    return viz"
   ]
  },
  {
   "cell_type": "code",
   "execution_count": null,
   "id": "6c4e01f9",
   "metadata": {},
   "outputs": [],
   "source": []
  },
  {
   "cell_type": "code",
   "execution_count": null,
   "id": "3d56daa5",
   "metadata": {},
   "outputs": [],
   "source": []
  },
  {
   "cell_type": "code",
   "execution_count": null,
   "id": "a975d57c",
   "metadata": {},
   "outputs": [],
   "source": []
  },
  {
   "cell_type": "code",
   "execution_count": null,
   "id": "6c81617a",
   "metadata": {},
   "outputs": [],
   "source": []
  },
  {
   "cell_type": "code",
   "execution_count": null,
   "id": "9051c16a",
   "metadata": {},
   "outputs": [],
   "source": [
    "import micom\n",
    "from micom.workflows import load_results\n",
    "western_growth = load_results(\"growth_western_qiime_agora2.zip\")"
   ]
  },
  {
   "cell_type": "code",
   "execution_count": null,
   "id": "f5fd2f14",
   "metadata": {},
   "outputs": [],
   "source": []
  },
  {
   "cell_type": "code",
   "execution_count": null,
   "id": "a333ad44",
   "metadata": {},
   "outputs": [],
   "source": [
    "western_growth"
   ]
  },
  {
   "cell_type": "code",
   "execution_count": null,
   "id": "fe2a03ff",
   "metadata": {},
   "outputs": [],
   "source": [
    "growth_western = western_growth\n"
   ]
  },
  {
   "cell_type": "code",
   "execution_count": null,
   "id": "368cecf9",
   "metadata": {},
   "outputs": [],
   "source": [
    "exchanges_western = growth_western.exchanges"
   ]
  },
  {
   "cell_type": "code",
   "execution_count": null,
   "id": "743740c3",
   "metadata": {},
   "outputs": [],
   "source": [
    "exchanges_western.to_csv(\"Exchanges_western.csv\")"
   ]
  },
  {
   "cell_type": "code",
   "execution_count": null,
   "id": "1b35d5ba",
   "metadata": {},
   "outputs": [],
   "source": [
    "import pandas as pd\n",
    "metadata = pd.read_table(\"SampleMetadataCompletaCorregidaSinEncabezados.tsv\")\n"
   ]
  },
  {
   "cell_type": "code",
   "execution_count": null,
   "id": "1bfaaaec",
   "metadata": {},
   "outputs": [],
   "source": [
    "growth_western.growth_rates"
   ]
  },
  {
   "cell_type": "code",
   "execution_count": null,
   "id": "f29bf530",
   "metadata": {},
   "outputs": [],
   "source": [
    "growth_rates_western= pd.merge(growth_western.growth_rates, metadata[['sample_id', 'group']], on='sample_id')\n",
    "growth_rates_western.to_csv('growth_rates_western_agora2.csv',index=False)\n"
   ]
  },
  {
   "cell_type": "code",
   "execution_count": null,
   "id": "37c6ee37",
   "metadata": {},
   "outputs": [],
   "source": [
    "exchanges_western = western_growth.exchanges\n"
   ]
  },
  {
   "cell_type": "code",
   "execution_count": null,
   "id": "28c3a427",
   "metadata": {},
   "outputs": [],
   "source": [
    "from micom.measures import production_rates\n",
    "import numpy as np\n",
    "\n",
    "# calculate production rates for western diet\n",
    "western_prod = production_rates(western_growth)\n",
    "western_prod['diet'] = 'western'\n"
   ]
  },
  {
   "cell_type": "code",
   "execution_count": null,
   "id": "9ae2a11d",
   "metadata": {},
   "outputs": [],
   "source": [
    "# merge the production rates\n",
    "exchangesw = western_prod\n",
    "\n",
    "# convert to a matrix of samples vs. metabolites that contains the production rates\n",
    "exchangesw = pd.pivot_table(exchangesw, index=['diet', 'sample_id'], columns='name', values='flux')\n",
    "\n",
    "# if a metabolite is not produced its flux is zero\n",
    "exchangesw = exchangesw.T.fillna(0.0)\n",
    "\n",
    "# apply a CLR transform again, normalizes the fluxes\n",
    "exchangesw = exchangesw.apply(lambda xs: np.log(xs + 0.001) - np.log(xs.mean() + 0.001), axis=0)\n",
    "\n",
    "# sort by variance, highest variance fluxes first\n",
    "exchangesw = exchangesw.reindex(exchangesw.var(axis=1).sort_values(ascending=False).index)\n",
    "\n",
    "exchangesw"
   ]
  },
  {
   "cell_type": "code",
   "execution_count": null,
   "id": "d3477d5f",
   "metadata": {},
   "outputs": [],
   "source": [
    "exchangesw.T"
   ]
  },
  {
   "cell_type": "code",
   "execution_count": null,
   "id": "2a74754d",
   "metadata": {},
   "outputs": [],
   "source": [
    "exchangesw = pd.merge(exchangesw, metadata[['sample_id', 'group']], on='sample_id')"
   ]
  },
  {
   "cell_type": "code",
   "execution_count": null,
   "id": "da94749c",
   "metadata": {},
   "outputs": [],
   "source": [
    "exchangesw.to_csv('exchanges_agora2_qiimeimputado_western.csv')"
   ]
  },
  {
   "cell_type": "code",
   "execution_count": null,
   "id": "65f73b27",
   "metadata": {},
   "outputs": [],
   "source": [
    "# merge the production rates\n",
    "exchangesw = western_prod\n",
    "\n",
    "# convert to a matrix of samples vs. metabolites that contains the production rates\n",
    "exchangesw2 = pd.pivot_table(exchangesw, index=['diet', 'sample_id'], columns='name', values='flux')\n"
   ]
  },
  {
   "cell_type": "code",
   "execution_count": null,
   "id": "2e5094c9",
   "metadata": {},
   "outputs": [],
   "source": [
    "exchangesw2 = pd.merge(exchangesw2, metadata[['sample_id', 'group']], on='sample_id')\n"
   ]
  },
  {
   "cell_type": "code",
   "execution_count": null,
   "id": "f031c059",
   "metadata": {},
   "outputs": [],
   "source": [
    "exchangesw2"
   ]
  },
  {
   "cell_type": "code",
   "execution_count": null,
   "id": "571bc5f9",
   "metadata": {},
   "outputs": [],
   "source": [
    "exchangesw2_2 = exchangesw2[exchangesw2['group'] != 'm-t24']"
   ]
  },
  {
   "cell_type": "code",
   "execution_count": null,
   "id": "be43e809",
   "metadata": {},
   "outputs": [],
   "source": [
    "exchangesw2_2 = exchangesw2_2[exchangesw2_2['group'] != 'm-t18']"
   ]
  },
  {
   "cell_type": "code",
   "execution_count": null,
   "id": "4fba64a5",
   "metadata": {},
   "outputs": [],
   "source": [
    "exchangesw2_2"
   ]
  },
  {
   "cell_type": "code",
   "execution_count": null,
   "id": "815b2d85",
   "metadata": {},
   "outputs": [],
   "source": [
    "# Separate the 'sample_id' column and set it as the index (if it's not already the index)\n",
    "exchangesw2_2.set_index('sample_id', inplace=True)\n",
    "\n",
    "# Ensure all other columns are numeric, converting non-numeric values to NaN\n",
    "exchangesw2_2 = exchangesw2_2.apply(pd.to_numeric, errors='coerce')\n",
    "\n",
    "# Fill NaN values with 0.0\n",
    "exchangesw2_2 = exchangesw2_2.fillna(0.0)\n",
    "\n",
    "# Apply the CLR transform, normalizing the fluxes\n",
    "exchangesw2_2 = exchangesw2_2.apply(lambda xs: np.log(xs + 0.001) - np.log(xs.mean() + 0.001), axis=1)\n",
    "\n",
    "# Sort by variance, highest variance fluxes first\n",
    "exchangesw2_2 = exchangesw2_2.reindex(exchangesw2_2.var(axis=1).sort_values(ascending=False).index)\n",
    "\n",
    "# Reset the index to bring 'sample_id' back as a column\n",
    "exchangesw2_2.reset_index(inplace=True)\n"
   ]
  },
  {
   "cell_type": "code",
   "execution_count": null,
   "id": "3fbae332",
   "metadata": {},
   "outputs": [],
   "source": [
    "exchangesw2_2"
   ]
  },
  {
   "cell_type": "code",
   "execution_count": null,
   "id": "0f87623e",
   "metadata": {},
   "outputs": [],
   "source": [
    "exchangesw2_2.to_csv('exchanges_agora2_qiimeimputado_western_sin18y24.csv')"
   ]
  },
  {
   "cell_type": "code",
   "execution_count": null,
   "id": "d944f421",
   "metadata": {},
   "outputs": [],
   "source": [
    "manifest.to_csv('manifest_qiimeimp_met.csv')"
   ]
  },
  {
   "cell_type": "code",
   "execution_count": null,
   "id": "9db666d3",
   "metadata": {},
   "outputs": [],
   "source": [
    "from micom.measures import consumption_rates\n",
    "import numpy as np\n",
    "\n",
    "# calculate production rates for western diet\n",
    "western_comp = consumption_rates(western_growth)\n",
    "western_comp['diet'] = 'western'\n"
   ]
  },
  {
   "cell_type": "code",
   "execution_count": null,
   "id": "5d01908b",
   "metadata": {},
   "outputs": [],
   "source": [
    "# merge the production rates\n",
    "exchangesw = western_comp\n",
    "\n",
    "# convert to a matrix of samples vs. metabolites that contains the production rates\n",
    "exchangesw = pd.pivot_table(exchangesw, index=['diet', 'sample_id'], columns='name', values='flux')\n",
    "\n",
    "# if a metabolite is not produced its flux is zero\n",
    "exchangesw = exchangesw.T.fillna(0.0)\n",
    "\n",
    "# apply a CLR transform again, normalizes the fluxes\n",
    "exchangesw = exchangesw.apply(lambda xs: np.log(xs + 0.001) - np.log(xs.mean() + 0.001), axis=0)\n",
    "\n",
    "# sort by variance, highest variance fluxes first\n",
    "exchangesw = exchangesw.reindex(exchangesw.var(axis=1).sort_values(ascending=False).index)\n",
    "\n",
    "exchangesw"
   ]
  },
  {
   "cell_type": "code",
   "execution_count": null,
   "id": "241c969e",
   "metadata": {},
   "outputs": [],
   "source": [
    "exchangesw = pd.merge(exchangesw, metadata[['sample_id', 'group']], on='sample_id')\n",
    "exchangesw.to_csv('exchanges_agora2_qiimeimputado_western.csv')"
   ]
  }
 ],
 "metadata": {
  "kernelspec": {
   "display_name": "Python 3 (ipykernel)",
   "language": "python",
   "name": "python3"
  },
  "language_info": {
   "codemirror_mode": {
    "name": "ipython",
    "version": 3
   },
   "file_extension": ".py",
   "mimetype": "text/x-python",
   "name": "python",
   "nbconvert_exporter": "python",
   "pygments_lexer": "ipython3",
   "version": "3.9.19"
  }
 },
 "nbformat": 4,
 "nbformat_minor": 5
}
