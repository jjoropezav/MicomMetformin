{
 "cells": [
  {
   "cell_type": "code",
   "execution_count": null,
   "id": "3df5e7e8-7dca-4c01-af45-9169b9890e5e",
   "metadata": {},
   "outputs": [],
   "source": [
    "import pandas as pd\n",
    "\n",
    "tax = pd.read_csv('qimme2imputadolong_met.csv')\n",
    "tax\n",
    "tax= tax[tax['abundance'] != 0]"
   ]
  },
  {
   "cell_type": "code",
   "execution_count": null,
   "id": "e3f7ba64-5a83-4b94-a697-9ad04a72c8a2",
   "metadata": {},
   "outputs": [],
   "source": [
    "from micom.workflows import build\n",
    "from micom import Community\n",
    "import pandas as pd\n",
    "\n",
    "manifest = build(tax, \"agora201_refseq216_genus_corregida2.qza\", \"models_met\", solver=\"hybrid\", cutoff=0.005, threads=100)\n"
   ]
  },
  {
   "cell_type": "code",
   "execution_count": null,
   "id": "bb6beee3-45b8-4779-ba50-887cdf86b959",
   "metadata": {},
   "outputs": [],
   "source": [
    "manifest"
   ]
  },
  {
   "cell_type": "code",
   "execution_count": null,
   "id": "811dc10d",
   "metadata": {},
   "outputs": [],
   "source": [
    "from micom.qiime_formats import load_qiime_medium\n"
   ]
  },
  {
   "cell_type": "code",
   "execution_count": null,
   "id": "ffeabec8-67eb-4b87-adc4-30662bd1c996",
   "metadata": {},
   "outputs": [],
   "source": [
    "from micom.qiime_formats import load_qiime_medium\n",
    "\n",
    "medium_mediterranea = load_qiime_medium(\"vmh_mediterranean_cena_agora2.qza\")\n",
    "medium_milpa = load_qiime_medium(\"vmh_mediterranean_cena_agora2.qza\")\n",
    "medium_western = load_qiime_medium(\"western_diet_gut_agora2.qza\")\n"
   ]
  },
  {
   "cell_type": "code",
   "execution_count": null,
   "id": "0a9535d3-3afa-4b1c-8d5f-bcff557b4561",
   "metadata": {},
   "outputs": [],
   "source": [
    "medium_milpa"
   ]
  },
  {
   "cell_type": "code",
   "execution_count": null,
   "id": "c4262bb4-8004-4b99-9069-0340d32e212e",
   "metadata": {},
   "outputs": [],
   "source": [
    "from micom.workflows import grow, save_results\n",
    "\n",
    "growth_mediterranean = grow(manifest, \"models_met\", medium_mediterranea, tradeoff=0.5, threads=100)\n"
   ]
  },
  {
   "cell_type": "code",
   "execution_count": null,
   "id": "e70a44be-1414-489b-a2a4-3285ae8ce71c",
   "metadata": {},
   "outputs": [],
   "source": [
    "# We'll save the results to a file\n",
    "save_results(growth_mediterranean, \"growth_mediterranea_cena_qiime_agora2.zip\")\n"
   ]
  },
  {
   "cell_type": "code",
   "execution_count": null,
   "id": "6f850691",
   "metadata": {},
   "outputs": [],
   "source": [
    "from micom.workflows import grow, save_results\n",
    "\n",
    "growth_milpa = grow(manifest, \"models_met\", medium_milpa, tradeoff=0.4, threads=100)\n"
   ]
  },
  {
   "cell_type": "code",
   "execution_count": null,
   "id": "2e9fd000",
   "metadata": {},
   "outputs": [],
   "source": [
    "# We'll save the results to a file\n",
    "save_results(growth_milpa, \"growth_milpa_cena_qiime_agora2.zip\")\n"
   ]
  },
  {
   "cell_type": "code",
   "execution_count": null,
   "id": "107e9da7",
   "metadata": {},
   "outputs": [],
   "source": [
    "from micom.workflows import tradeoff\n",
    "import micom\n",
    "\n",
    "tradeoff_results = tradeoff(manifest, \"models_met\", medium_uh, threads=100)\n",
    "tradeoff_results.to_csv(\"tradeoff.csv\", index=False)\n",
    "\n",
    "plot_tradeoff(tradeoff_results, tolerance=1e-4)"
   ]
  },
  {
   "cell_type": "code",
   "execution_count": null,
   "id": "22a34a01",
   "metadata": {},
   "outputs": [],
   "source": [
    "tradeoff_results"
   ]
  },
  {
   "cell_type": "code",
   "execution_count": null,
   "id": "2d9218e0",
   "metadata": {},
   "outputs": [],
   "source": [
    "plot_tradeoff(tradeoff_results, tolerance=1e-4)"
   ]
  },
  {
   "cell_type": "code",
   "execution_count": null,
   "id": "9051c16a",
   "metadata": {},
   "outputs": [],
   "source": [
    "import micom\n",
    "from micom.workflows import load_results\n",
    "western_growth = load_results(\"growth_western_qiime_agora2.zip\")"
   ]
  },
  {
   "cell_type": "code",
   "execution_count": null,
   "id": "a333ad44",
   "metadata": {},
   "outputs": [],
   "source": [
    "western_growth"
   ]
  },
  {
   "cell_type": "code",
   "execution_count": null,
   "id": "fe2a03ff",
   "metadata": {},
   "outputs": [],
   "source": [
    "growth_western = western_growth\n"
   ]
  },
  {
   "cell_type": "code",
   "execution_count": null,
   "id": "368cecf9",
   "metadata": {},
   "outputs": [],
   "source": [
    "exchanges_western = growth_western.exchanges"
   ]
  },
  {
   "cell_type": "code",
   "execution_count": null,
   "id": "743740c3",
   "metadata": {},
   "outputs": [],
   "source": [
    "exchanges_western.to_csv(\"Exchanges_western.csv\")"
   ]
  },
  {
   "cell_type": "code",
   "execution_count": null,
   "id": "1b35d5ba",
   "metadata": {},
   "outputs": [],
   "source": [
    "import pandas as pd\n",
    "metadata = pd.read_table(\"SampleMetadataCompletaCorregidaSinEncabezados.tsv\")\n"
   ]
  },
  {
   "cell_type": "code",
   "execution_count": null,
   "id": "1bfaaaec",
   "metadata": {},
   "outputs": [],
   "source": [
    "growth_western.growth_rates"
   ]
  },
  {
   "cell_type": "code",
   "execution_count": null,
   "id": "f29bf530",
   "metadata": {},
   "outputs": [],
   "source": [
    "growth_rates_western= pd.merge(growth_western.growth_rates, metadata[['sample_id', 'group']], on='sample_id')\n",
    "growth_rates_western.to_csv('growth_rates_western_agora2.csv',index=False)\n"
   ]
  },
  {
   "cell_type": "code",
   "execution_count": null,
   "id": "37c6ee37",
   "metadata": {},
   "outputs": [],
   "source": [
    "exchanges_western = western_growth.exchanges\n"
   ]
  },
  {
   "cell_type": "code",
   "execution_count": null,
   "id": "28c3a427",
   "metadata": {},
   "outputs": [],
   "source": [
    "from micom.measures import production_rates\n",
    "import numpy as np\n",
    "\n",
    "# calculate production rates for western diet\n",
    "western_prod = production_rates(western_growth)\n",
    "western_prod['diet'] = 'western'\n"
   ]
  },
  {
   "cell_type": "code",
   "execution_count": null,
   "id": "9ae2a11d",
   "metadata": {},
   "outputs": [],
   "source": [
    "# merge the production rates\n",
    "exchangesw = western_prod\n",
    "\n",
    "# convert to a matrix of samples vs. metabolites that contains the production rates\n",
    "exchangesw = pd.pivot_table(exchangesw, index=['diet', 'sample_id'], columns='name', values='flux')\n",
    "\n",
    "# if a metabolite is not produced its flux is zero\n",
    "exchangesw = exchangesw.T.fillna(0.0)\n",
    "\n",
    "# apply a CLR transform again, normalizes the fluxes\n",
    "exchangesw = exchangesw.apply(lambda xs: np.log(xs + 0.001) - np.log(xs.mean() + 0.001), axis=0)\n",
    "\n",
    "# sort by variance, highest variance fluxes first\n",
    "exchangesw = exchangesw.reindex(exchangesw.var(axis=1).sort_values(ascending=False).index)\n",
    "\n",
    "exchangesw"
   ]
  },
  {
   "cell_type": "code",
   "execution_count": null,
   "id": "d3477d5f",
   "metadata": {},
   "outputs": [],
   "source": [
    "exchangesw.T"
   ]
  },
  {
   "cell_type": "code",
   "execution_count": null,
   "id": "2a74754d",
   "metadata": {},
   "outputs": [],
   "source": [
    "exchangesw = pd.merge(exchangesw, metadata[['sample_id', 'group']], on='sample_id')"
   ]
  },
  {
   "cell_type": "code",
   "execution_count": null,
   "id": "da94749c",
   "metadata": {},
   "outputs": [],
   "source": [
    "exchangesw.to_csv('exchanges_agora2_qiimeimputado_western.csv')"
   ]
  },
  {
   "cell_type": "code",
   "execution_count": null,
   "id": "65f73b27",
   "metadata": {},
   "outputs": [],
   "source": [
    "# merge the production rates\n",
    "exchangesw = western_prod\n",
    "\n",
    "# convert to a matrix of samples vs. metabolites that contains the production rates\n",
    "exchangesw2 = pd.pivot_table(exchangesw, index=['diet', 'sample_id'], columns='name', values='flux')\n"
   ]
  },
  {
   "cell_type": "code",
   "execution_count": null,
   "id": "2e5094c9",
   "metadata": {},
   "outputs": [],
   "source": [
    "exchangesw2 = pd.merge(exchangesw2, metadata[['sample_id', 'group']], on='sample_id')\n"
   ]
  },
  {
   "cell_type": "code",
   "execution_count": null,
   "id": "f031c059",
   "metadata": {},
   "outputs": [],
   "source": [
    "exchangesw2"
   ]
  },
  {
   "cell_type": "code",
   "execution_count": null,
   "id": "d944f421",
   "metadata": {},
   "outputs": [],
   "source": [
    "manifest.to_csv('manifest_qiimeimp_met.csv')"
   ]
  },
  {
   "cell_type": "code",
   "execution_count": null,
   "id": "9db666d3",
   "metadata": {},
   "outputs": [],
   "source": [
    "from micom.measures import consumption_rates\n",
    "import numpy as np\n",
    "\n",
    "# calculate production rates for western diet\n",
    "western_comp = consumption_rates(western_growth)\n",
    "western_comp['diet'] = 'western'\n"
   ]
  },
  {
   "cell_type": "code",
   "execution_count": null,
   "id": "5d01908b",
   "metadata": {},
   "outputs": [],
   "source": [
    "# merge the production rates\n",
    "exchangesw = western_comp\n",
    "\n",
    "# convert to a matrix of samples vs. metabolites that contains the production rates\n",
    "exchangesw = pd.pivot_table(exchangesw, index=['diet', 'sample_id'], columns='name', values='flux')\n",
    "\n",
    "# if a metabolite is not produced its flux is zero\n",
    "exchangesw = exchangesw.T.fillna(0.0)\n",
    "\n",
    "# apply a CLR transform again, normalizes the fluxes\n",
    "exchangesw = exchangesw.apply(lambda xs: np.log(xs + 0.001) - np.log(xs.mean() + 0.001), axis=0)\n",
    "\n",
    "# sort by variance, highest variance fluxes first\n",
    "exchangesw = exchangesw.reindex(exchangesw.var(axis=1).sort_values(ascending=False).index)\n",
    "\n",
    "exchangesw"
   ]
  },
  {
   "cell_type": "code",
   "execution_count": null,
   "id": "241c969e",
   "metadata": {},
   "outputs": [],
   "source": [
    "exchangesw = pd.merge(exchangesw, metadata[['sample_id', 'group']], on='sample_id')\n",
    "exchangesw.to_csv('exchanges_agora2_qiimeimputado_western.csv')"
   ]
  }
 ],
 "metadata": {
  "kernelspec": {
   "display_name": "Python 3 (ipykernel)",
   "language": "python",
   "name": "python3"
  },
  "language_info": {
   "codemirror_mode": {
    "name": "ipython",
    "version": 3
   },
   "file_extension": ".py",
   "mimetype": "text/x-python",
   "name": "python",
   "nbconvert_exporter": "python",
   "pygments_lexer": "ipython3",
   "version": "3.13.2"
  }
 },
 "nbformat": 4,
 "nbformat_minor": 5
}
